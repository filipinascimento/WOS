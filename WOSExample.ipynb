{
 "cells": [
  {
   "cell_type": "code",
   "execution_count": null,
   "metadata": {},
   "outputs": [],
   "source": [
    "import WOS\n",
    "from pathlib import Path\n",
    "from tqdm.auto import tqdm"
   ]
  },
  {
   "cell_type": "code",
   "execution_count": null,
   "metadata": {},
   "outputs": [],
   "source": [
    "# dataPath = Path(\"..\") / \"..\" / \"Data\" / \"Processed\"\n",
    "dataPath = Path(\"/gpfs/sciencegenome/WoS-disambiguation/\")\n",
    "WOSDataPath = dataPath / \"WOSData.bgz\"\n",
    "UID2PositionPath = dataPath / \"UID2Positions.bgz\""
   ]
  },
  {
   "cell_type": "code",
   "execution_count": null,
   "metadata": {},
   "outputs": [],
   "source": [
    "UID2Position = WOS.readIndicesDictionary(UID2PositionPath)"
   ]
  },
  {
   "cell_type": "code",
   "execution_count": null,
   "metadata": {},
   "outputs": [],
   "source": [
    "# Reading articles in order\n",
    "reader = WOS.DatabaseReader(WOSDataPath)\n",
    "\n",
    "articles = reader.readNextArticles(100)\n",
    "\n",
    "reader.close()\n"
   ]
  },
  {
   "cell_type": "code",
   "execution_count": null,
   "metadata": {},
   "outputs": [],
   "source": [
    "#Random access example\n",
    "#Copy the bgz to a local disk to improve performance\n",
    "#Random access over network mounted devices is slow!\n",
    "\n",
    "#Getting some random IDs\n",
    "import random\n",
    "IDSample = random.sample(list(UID2Position), 1000)\n",
    "\n",
    "#Accessing and checking UID\n",
    "reader = WOS.DatabaseReader(WOSDataPath)\n",
    "for ID in tqdm(IDSample):\n",
    "    article = reader.articleAt(UID2Position[ID])\n",
    "    assert article[\"UID\"] == ID\n",
    "reader.close()"
   ]
  },
  {
   "cell_type": "code",
   "execution_count": null,
   "metadata": {},
   "outputs": [],
   "source": [
    "#Read all entries in order\n",
    "\n",
    "allDocTypes = set()\n",
    "pbar = tqdm(total=74883967)\n",
    "\n",
    "reader = WOS.DatabaseReader(WOSDataPath)\n",
    "\n",
    "while True:\n",
    "    articles = reader.readNextArticles(1) #change this to \n",
    "    if(articles):\n",
    "        pbar.update(len(articles))\n",
    "        for article in articles:\n",
    "            if('doctype' in article):\n",
    "                allDocTypes.update(set(article['doctype']))\n",
    "    else:\n",
    "        break\n",
    "        \n",
    "reader.close()"
   ]
  }
 ],
 "metadata": {
  "kernelspec": {
   "display_name": "TensorflowGPU",
   "language": "python",
   "name": "tensorflowgpu"
  },
  "language_info": {
   "codemirror_mode": {
    "name": "ipython",
    "version": 3
   },
   "file_extension": ".py",
   "mimetype": "text/x-python",
   "name": "python",
   "nbconvert_exporter": "python",
   "pygments_lexer": "ipython3",
   "version": "3.7.4"
  }
 },
 "nbformat": 4,
 "nbformat_minor": 4
}
